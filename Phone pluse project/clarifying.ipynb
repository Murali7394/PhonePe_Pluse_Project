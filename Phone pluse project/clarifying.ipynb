{
 "cells": [
  {
   "cell_type": "code",
   "execution_count": 15,
   "id": "bfabbb16",
   "metadata": {},
   "outputs": [],
   "source": [
    "data = {\n",
    "   \"success\":True,\n",
    "   \"code\":\"SUCCESS\",\n",
    "   \"data\":{\n",
    "      \"hoverData\":{\n",
    "         \"north and middle andaman district\":{\n",
    "            \"registeredUsers\":632,\n",
    "            \"appOpens\":0\n",
    "         },\n",
    "         \"south andaman district\":{\n",
    "            \"registeredUsers\":5846,\n",
    "            \"appOpens\":0\n",
    "         },\n",
    "         \"nicobars district\":{\n",
    "            \"registeredUsers\":262,\n",
    "            \"appOpens\":0\n",
    "         }\n",
    "      }\n",
    "   },\n",
    "   \"responseTimestamp\":1630502911500\n",
    "}\n",
    "   "
   ]
  },
  {
   "cell_type": "code",
   "execution_count": null,
   "id": "7447bebf",
   "metadata": {},
   "outputs": [],
   "source": []
  },
  {
   "cell_type": "code",
   "execution_count": null,
   "id": "1fba5023",
   "metadata": {},
   "outputs": [],
   "source": []
  },
  {
   "cell_type": "code",
   "execution_count": null,
   "id": "6cb6c390",
   "metadata": {},
   "outputs": [],
   "source": []
  },
  {
   "cell_type": "code",
   "execution_count": null,
   "id": "d8de3c32",
   "metadata": {},
   "outputs": [],
   "source": []
  },
  {
   "cell_type": "code",
   "execution_count": null,
   "id": "24eb4372",
   "metadata": {},
   "outputs": [],
   "source": []
  },
  {
   "cell_type": "code",
   "execution_count": null,
   "id": "8a66bad4",
   "metadata": {},
   "outputs": [],
   "source": []
  },
  {
   "cell_type": "code",
   "execution_count": 6,
   "id": "e19569d0",
   "metadata": {},
   "outputs": [
    {
     "data": {
      "text/plain": [
       "['north and middle andaman district',\n",
       " 'south andaman district',\n",
       " 'nicobars district']"
      ]
     },
     "execution_count": 6,
     "metadata": {},
     "output_type": "execute_result"
    }
   ],
   "source": [
    "districts = list(data['data']['hoverData'].keys())\n",
    "districts"
   ]
  },
  {
   "cell_type": "code",
   "execution_count": 13,
   "id": "b2af79a2",
   "metadata": {},
   "outputs": [
    {
     "name": "stdout",
     "output_type": "stream",
     "text": [
      "north and middle andaman district 632\n",
      "south andaman district 5846\n",
      "nicobars district 262\n"
     ]
    }
   ],
   "source": [
    "\n",
    "for i in data['data']['hoverData']:\n",
    "    dis_name = i\n",
    "    count = data['data']['hoverData'][i]['registeredUsers']\n",
    "    print(dis_name, count)"
   ]
  },
  {
   "cell_type": "code",
   "execution_count": 16,
   "id": "3b529dcc",
   "metadata": {},
   "outputs": [],
   "source": [
    "data = {'success': True, 'code': 'SUCCESS', 'data': {'hoverData': {'puducherry': {'registeredUsers': 49318, 'appOpens': 0}, 'tamil nadu': {'registeredUsers': 2104754, 'appOpens': 0}, 'uttar pradesh': {'registeredUsers': 4694250, 'appOpens': 0}, 'madhya pradesh': {'registeredUsers': 2553603, 'appOpens': 0}, 'andhra pradesh': {'registeredUsers': 3336450, 'appOpens': 0}, 'tripura': {'registeredUsers': 55157, 'appOpens': 0}, 'lakshadweep': {'registeredUsers': 501, 'appOpens': 0}, 'manipur': {'registeredUsers': 29925, 'appOpens': 0}, 'maharashtra': {'registeredUsers': 6106994, 'appOpens': 0}, 'dadra & nagar haveli & daman & diu': {'registeredUsers': 53258, 'appOpens': 0}, 'meghalaya': {'registeredUsers': 18513, 'appOpens': 0}, 'andaman & nicobar islands': {'registeredUsers': 6740, 'appOpens': 0}, 'haryana': {'registeredUsers': 1847357, 'appOpens': 0}, 'rajasthan': {'registeredUsers': 3158202, 'appOpens': 0}, 'ladakh': {'registeredUsers': 8784, 'appOpens': 0}, 'punjab': {'registeredUsers': 847142, 'appOpens': 0}, 'assam': {'registeredUsers': 385237, 'appOpens': 0}, 'jharkhand': {'registeredUsers': 885762, 'appOpens': 0}, 'odisha': {'registeredUsers': 1594015, 'appOpens': 0}, 'bihar': {'registeredUsers': 2133804, 'appOpens': 0}, 'kerala': {'registeredUsers': 784184, 'appOpens': 0}, 'karnataka': {'registeredUsers': 3717763, 'appOpens': 0}, 'chandigarh': {'registeredUsers': 86268, 'appOpens': 0}, 'telangana': {'registeredUsers': 3315560, 'appOpens': 0}, 'himachal pradesh': {'registeredUsers': 227373, 'appOpens': 0}, 'west bengal': {'registeredUsers': 2604789, 'appOpens': 0}, 'gujarat': {'registeredUsers': 2690048, 'appOpens': 0}, 'sikkim': {'registeredUsers': 20051, 'appOpens': 0}, 'nagaland': {'registeredUsers': 15074, 'appOpens': 0}, 'mizoram': {'registeredUsers': 7593, 'appOpens': 0}, 'chhattisgarh': {'registeredUsers': 679263, 'appOpens': 0}, 'jammu & kashmir': {'registeredUsers': 176425, 'appOpens': 0}, 'goa': {'registeredUsers': 91936, 'appOpens': 0}, 'arunachal pradesh': {'registeredUsers': 21495, 'appOpens': 0}, 'delhi': {'registeredUsers': 2087022, 'appOpens': 0}, 'uttarakhand': {'registeredUsers': 483043, 'appOpens': 0}}}, 'responseTimestamp': 1630502909437}"
   ]
  },
  {
   "cell_type": "code",
   "execution_count": 17,
   "id": "9e318a99",
   "metadata": {},
   "outputs": [
    {
     "name": "stdout",
     "output_type": "stream",
     "text": [
      "puducherry 49318\n",
      "tamil nadu 2104754\n",
      "uttar pradesh 4694250\n",
      "madhya pradesh 2553603\n",
      "andhra pradesh 3336450\n",
      "tripura 55157\n",
      "lakshadweep 501\n",
      "manipur 29925\n",
      "maharashtra 6106994\n",
      "dadra & nagar haveli & daman & diu 53258\n",
      "meghalaya 18513\n",
      "andaman & nicobar islands 6740\n",
      "haryana 1847357\n",
      "rajasthan 3158202\n",
      "ladakh 8784\n",
      "punjab 847142\n",
      "assam 385237\n",
      "jharkhand 885762\n",
      "odisha 1594015\n",
      "bihar 2133804\n",
      "kerala 784184\n",
      "karnataka 3717763\n",
      "chandigarh 86268\n",
      "telangana 3315560\n",
      "himachal pradesh 227373\n",
      "west bengal 2604789\n",
      "gujarat 2690048\n",
      "sikkim 20051\n",
      "nagaland 15074\n",
      "mizoram 7593\n",
      "chhattisgarh 679263\n",
      "jammu & kashmir 176425\n",
      "goa 91936\n",
      "arunachal pradesh 21495\n",
      "delhi 2087022\n",
      "uttarakhand 483043\n"
     ]
    }
   ],
   "source": [
    "for i in data['data']['hoverData']:\n",
    "    dis_name = i\n",
    "    count = data['data']['hoverData'][i]['registeredUsers']\n",
    "    print(dis_name, count)"
   ]
  },
  {
   "cell_type": "code",
   "execution_count": 2,
   "id": "ce9682f4",
   "metadata": {},
   "outputs": [],
   "source": [
    "Data = {'success': True, 'code': 'SUCCESS', 'data': {'states': None, 'districts': [{'entityName': 'south andaman', 'metric': {'type': 'TOTAL', 'count': 5688, 'amount': 12560249.343665812}}, {'entityName': 'nicobars', 'metric': {'type': 'TOTAL', 'count': 528, 'amount': 1139848.801225994}}, {'entityName': 'north and middle andaman', 'metric': {'type': 'TOTAL', 'count': 442, 'amount': 931663.0770939873}}], 'pincodes': [{'entityName': '744101', 'metric': {'type': 'TOTAL', 'count': 1622, 'amount': 2769297.9039997994}}, {'entityName': '744103', 'metric': {'type': 'TOTAL', 'count': 1223, 'amount': 2238041.8716124697}}, {'entityName': '744102', 'metric': {'type': 'TOTAL', 'count': 969, 'amount': 3519059.937562449}}, {'entityName': '744105', 'metric': {'type': 'TOTAL', 'count': 685, 'amount': 1298560.9515503529}}, {'entityName': '744104', 'metric': {'type': 'TOTAL', 'count': 340, 'amount': 1039715.3111450541}}, {'entityName': '744107', 'metric': {'type': 'TOTAL', 'count': 302, 'amount': 556059.5308556345}}, {'entityName': '744301', 'metric': {'type': 'TOTAL', 'count': 283, 'amount': 445739.1633851439}}, {'entityName': '744112', 'metric': {'type': 'TOTAL', 'count': 269, 'amount': 333709.56700413954}}, {'entityName': '744202', 'metric': {'type': 'TOTAL', 'count': 193, 'amount': 238914.01667155625}}, {'entityName': '744302', 'metric': {'type': 'TOTAL', 'count': 168, 'amount': 547469.6509380838}}]}, 'responseTimestamp': 1630501486876}"
   ]
  },
  {
   "cell_type": "code",
   "execution_count": 18,
   "id": "2bf6bc84",
   "metadata": {},
   "outputs": [
    {
     "name": "stdout",
     "output_type": "stream",
     "text": [
      "\n",
      "south andaman 5688 12560249.343665812\n",
      "nicobars 528 1139848.801225994\n",
      "north and middle andaman 442 931663.0770939873\n",
      "744101 1622 2769297.9039997994\n",
      "744103 1223 2238041.8716124697\n",
      "744102 969 3519059.937562449\n",
      "744105 685 1298560.9515503529\n",
      "744104 340 1039715.3111450541\n",
      "744107 302 556059.5308556345\n",
      "744301 283 445739.1633851439\n",
      "744112 269 333709.56700413954\n",
      "744202 193 238914.01667155625\n",
      "744302 168 547469.6509380838\n"
     ]
    }
   ],
   "source": [
    "clm={'State':[], 'Year':[],'Quater':[],\"District Name\":[], 'Pincode':[],'Transaction_count':[], 'Transaction_amount':[]}\n",
    "for each in Data['data']:\n",
    "    if each == 'states':\n",
    "        continue\n",
    "    if each == 'districts':\n",
    "        print()\n",
    "        for i in range(len(Data['data'][each])):\n",
    "            name = Data['data'][each][i]['entityName']\n",
    "            count = Data['data'][each][i]['metric']['count']\n",
    "            amount = Data['data'][each][i]['metric']['amount']\n",
    "            print(name, count, amount)\n",
    "    if each == 'pincodes':\n",
    "        for i in range(len(Data['data'][each])):\n",
    "            pincode = Data['data'][each][i]['entityName']\n",
    "            count = Data['data'][each][i]['metric']['count']\n",
    "            amount = Data['data'][each][i]['metric']['amount']\n",
    "            print(pincode, count, amount)\n",
    "        \n",
    "    "
   ]
  },
  {
   "cell_type": "code",
   "execution_count": 2,
   "id": "7e672ab1",
   "metadata": {},
   "outputs": [
    {
     "data": {
      "text/plain": [
       "0"
      ]
     },
     "execution_count": 2,
     "metadata": {},
     "output_type": "execute_result"
    }
   ],
   "source": [
    "l = [1,2,3,4,5]\n",
    "l.index(1)"
   ]
  },
  {
   "cell_type": "code",
   "execution_count": 4,
   "id": "cd57f5f9",
   "metadata": {},
   "outputs": [
    {
     "name": "stdout",
     "output_type": "stream",
     "text": [
      "3 5 2\n",
      "3\n"
     ]
    }
   ],
   "source": [
    "a,b,x = map(int, input().split(' '))\n",
    "print(a)"
   ]
  },
  {
   "cell_type": "code",
   "execution_count": 13,
   "id": "c0a3486e",
   "metadata": {},
   "outputs": [],
   "source": [
    "import sqlite3 as sql\n",
    "import sqlalchemy as sqa\n",
    "import pandas as pd\n",
    "import seaborn as sns"
   ]
  },
  {
   "cell_type": "code",
   "execution_count": 2,
   "id": "d4f6c6e6",
   "metadata": {},
   "outputs": [
    {
     "ename": "OperationalError",
     "evalue": "table Agg_Trans_India already exists",
     "output_type": "error",
     "traceback": [
      "\u001b[1;31m---------------------------------------------------------------------------\u001b[0m",
      "\u001b[1;31mOperationalError\u001b[0m                          Traceback (most recent call last)",
      "Cell \u001b[1;32mIn[2], line 4\u001b[0m\n\u001b[0;32m      2\u001b[0m cr \u001b[38;5;241m=\u001b[39m connection\u001b[38;5;241m.\u001b[39mcursor()\n\u001b[0;32m      3\u001b[0m query \u001b[38;5;241m=\u001b[39m \u001b[38;5;124m\"\"\"\u001b[39m\u001b[38;5;124mCREATE TABLE Agg_Trans_India(State TEXT, Year BIGINT)\u001b[39m\u001b[38;5;124m\"\"\"\u001b[39m\n\u001b[1;32m----> 4\u001b[0m \u001b[43mcr\u001b[49m\u001b[38;5;241;43m.\u001b[39;49m\u001b[43mexecute\u001b[49m\u001b[43m(\u001b[49m\u001b[43mquery\u001b[49m\u001b[43m)\u001b[49m\n\u001b[0;32m      5\u001b[0m connection\u001b[38;5;241m.\u001b[39mcommit()\n",
      "\u001b[1;31mOperationalError\u001b[0m: table Agg_Trans_India already exists"
     ]
    }
   ],
   "source": [
    "\n",
    "connection = sql.connect('phnoephe.db')\n",
    "cr = connection.cursor()\n",
    "query = \"\"\"CREATE TABLE Agg_Trans_India(State TEXT, Year BIGINT)\"\"\"\n",
    "cr.execute(query)\n",
    "connection.commit()"
   ]
  },
  {
   "cell_type": "code",
   "execution_count": 4,
   "id": "59157b87",
   "metadata": {},
   "outputs": [],
   "source": [
    "query = \"\"\"DROP TABLE Agg_Trans_India\"\"\"\n",
    "cr.execute(query)\n",
    "connection.commit()"
   ]
  },
  {
   "cell_type": "code",
   "execution_count": 3,
   "id": "7423e47b",
   "metadata": {},
   "outputs": [],
   "source": [
    "engine = sqa.create_engine('sqlite:///phnoephe.db')"
   ]
  },
  {
   "cell_type": "markdown",
   "id": "662391e2",
   "metadata": {},
   "source": [
    "## checking the join without primary and foreign keys"
   ]
  },
  {
   "cell_type": "code",
   "execution_count": 14,
   "id": "84e7d795",
   "metadata": {},
   "outputs": [
    {
     "data": {
      "text/html": [
       "<div>\n",
       "<style scoped>\n",
       "    .dataframe tbody tr th:only-of-type {\n",
       "        vertical-align: middle;\n",
       "    }\n",
       "\n",
       "    .dataframe tbody tr th {\n",
       "        vertical-align: top;\n",
       "    }\n",
       "\n",
       "    .dataframe thead th {\n",
       "        text-align: right;\n",
       "    }\n",
       "</style>\n",
       "<table border=\"1\" class=\"dataframe\">\n",
       "  <thead>\n",
       "    <tr style=\"text-align: right;\">\n",
       "      <th></th>\n",
       "      <th>Year</th>\n",
       "      <th>Quater</th>\n",
       "      <th>Transaction_type</th>\n",
       "      <th>Transaction_count</th>\n",
       "      <th>Transaction_amount</th>\n",
       "    </tr>\n",
       "  </thead>\n",
       "  <tbody>\n",
       "    <tr>\n",
       "      <th>0</th>\n",
       "      <td>2018</td>\n",
       "      <td>1</td>\n",
       "      <td>Recharge &amp; bill payments</td>\n",
       "      <td>72550406</td>\n",
       "      <td>1.447271e+10</td>\n",
       "    </tr>\n",
       "    <tr>\n",
       "      <th>1</th>\n",
       "      <td>2018</td>\n",
       "      <td>1</td>\n",
       "      <td>Peer-to-peer payments</td>\n",
       "      <td>46982705</td>\n",
       "      <td>1.472459e+11</td>\n",
       "    </tr>\n",
       "    <tr>\n",
       "      <th>2</th>\n",
       "      <td>2018</td>\n",
       "      <td>1</td>\n",
       "      <td>Merchant payments</td>\n",
       "      <td>5368669</td>\n",
       "      <td>4.656679e+09</td>\n",
       "    </tr>\n",
       "    <tr>\n",
       "      <th>3</th>\n",
       "      <td>2018</td>\n",
       "      <td>1</td>\n",
       "      <td>Financial Services</td>\n",
       "      <td>3762820</td>\n",
       "      <td>8.158531e+08</td>\n",
       "    </tr>\n",
       "    <tr>\n",
       "      <th>4</th>\n",
       "      <td>2018</td>\n",
       "      <td>1</td>\n",
       "      <td>Others</td>\n",
       "      <td>5761576</td>\n",
       "      <td>4.643217e+09</td>\n",
       "    </tr>\n",
       "    <tr>\n",
       "      <th>...</th>\n",
       "      <td>...</td>\n",
       "      <td>...</td>\n",
       "      <td>...</td>\n",
       "      <td>...</td>\n",
       "      <td>...</td>\n",
       "    </tr>\n",
       "    <tr>\n",
       "      <th>95</th>\n",
       "      <td>2022</td>\n",
       "      <td>4</td>\n",
       "      <td>Merchant payments</td>\n",
       "      <td>6565690145</td>\n",
       "      <td>3.673601e+12</td>\n",
       "    </tr>\n",
       "    <tr>\n",
       "      <th>96</th>\n",
       "      <td>2022</td>\n",
       "      <td>4</td>\n",
       "      <td>Peer-to-peer payments</td>\n",
       "      <td>4459859921</td>\n",
       "      <td>1.457887e+13</td>\n",
       "    </tr>\n",
       "    <tr>\n",
       "      <th>97</th>\n",
       "      <td>2022</td>\n",
       "      <td>4</td>\n",
       "      <td>Recharge &amp; bill payments</td>\n",
       "      <td>991049281</td>\n",
       "      <td>6.497768e+11</td>\n",
       "    </tr>\n",
       "    <tr>\n",
       "      <th>98</th>\n",
       "      <td>2022</td>\n",
       "      <td>4</td>\n",
       "      <td>Financial Services</td>\n",
       "      <td>4623387</td>\n",
       "      <td>5.360528e+09</td>\n",
       "    </tr>\n",
       "    <tr>\n",
       "      <th>99</th>\n",
       "      <td>2022</td>\n",
       "      <td>4</td>\n",
       "      <td>Others</td>\n",
       "      <td>10013085</td>\n",
       "      <td>7.361493e+09</td>\n",
       "    </tr>\n",
       "  </tbody>\n",
       "</table>\n",
       "<p>100 rows × 5 columns</p>\n",
       "</div>"
      ],
      "text/plain": [
       "    Year  Quater          Transaction_type  Transaction_count  \\\n",
       "0   2018       1  Recharge & bill payments           72550406   \n",
       "1   2018       1     Peer-to-peer payments           46982705   \n",
       "2   2018       1         Merchant payments            5368669   \n",
       "3   2018       1        Financial Services            3762820   \n",
       "4   2018       1                    Others            5761576   \n",
       "..   ...     ...                       ...                ...   \n",
       "95  2022       4         Merchant payments         6565690145   \n",
       "96  2022       4     Peer-to-peer payments         4459859921   \n",
       "97  2022       4  Recharge & bill payments          991049281   \n",
       "98  2022       4        Financial Services            4623387   \n",
       "99  2022       4                    Others           10013085   \n",
       "\n",
       "    Transaction_amount  \n",
       "0         1.447271e+10  \n",
       "1         1.472459e+11  \n",
       "2         4.656679e+09  \n",
       "3         8.158531e+08  \n",
       "4         4.643217e+09  \n",
       "..                 ...  \n",
       "95        3.673601e+12  \n",
       "96        1.457887e+13  \n",
       "97        6.497768e+11  \n",
       "98        5.360528e+09  \n",
       "99        7.361493e+09  \n",
       "\n",
       "[100 rows x 5 columns]"
      ]
     },
     "execution_count": 14,
     "metadata": {},
     "output_type": "execute_result"
    }
   ],
   "source": [
    "ATI_df = pd.read_csv(r'D:\\Phone pluse project\\extracted_csv_files\\AGG\\Agg_tns_India_df.csv')\n",
    "ATI_df.drop('Unnamed: 0',axis=1, inplace=True)\n",
    "ATI_df   "
   ]
  },
  {
   "cell_type": "code",
   "execution_count": 15,
   "id": "79880d8c",
   "metadata": {},
   "outputs": [
    {
     "data": {
      "text/plain": [
       "147245883542.77402"
      ]
     },
     "execution_count": 15,
     "metadata": {},
     "output_type": "execute_result"
    }
   ],
   "source": [
    "ATI_df['Transaction_amount'].loc[1]"
   ]
  },
  {
   "cell_type": "code",
   "execution_count": 1,
   "id": "b7f80b1d",
   "metadata": {},
   "outputs": [
    {
     "data": {
      "text/plain": [
       "0.26"
      ]
     },
     "execution_count": 1,
     "metadata": {},
     "output_type": "execute_result"
    }
   ],
   "source": [
    "round(0.25552,2)"
   ]
  },
  {
   "cell_type": "code",
   "execution_count": 10,
   "id": "f526b483",
   "metadata": {},
   "outputs": [
    {
     "data": {
      "text/html": [
       "<div>\n",
       "<style scoped>\n",
       "    .dataframe tbody tr th:only-of-type {\n",
       "        vertical-align: middle;\n",
       "    }\n",
       "\n",
       "    .dataframe tbody tr th {\n",
       "        vertical-align: top;\n",
       "    }\n",
       "\n",
       "    .dataframe thead th {\n",
       "        text-align: right;\n",
       "    }\n",
       "</style>\n",
       "<table border=\"1\" class=\"dataframe\">\n",
       "  <thead>\n",
       "    <tr style=\"text-align: right;\">\n",
       "      <th></th>\n",
       "      <th>Year</th>\n",
       "      <th>Quater</th>\n",
       "      <th>Transaction_type</th>\n",
       "      <th>Transaction_count</th>\n",
       "      <th>Transaction_amount</th>\n",
       "    </tr>\n",
       "  </thead>\n",
       "  <tbody>\n",
       "    <tr>\n",
       "      <th>0</th>\n",
       "      <td>2018</td>\n",
       "      <td>1</td>\n",
       "      <td>Recharge &amp; bill payments</td>\n",
       "      <td>72550406</td>\n",
       "      <td>14472713558</td>\n",
       "    </tr>\n",
       "    <tr>\n",
       "      <th>1</th>\n",
       "      <td>2018</td>\n",
       "      <td>1</td>\n",
       "      <td>Peer-to-peer payments</td>\n",
       "      <td>46982705</td>\n",
       "      <td>147245883542</td>\n",
       "    </tr>\n",
       "    <tr>\n",
       "      <th>2</th>\n",
       "      <td>2018</td>\n",
       "      <td>1</td>\n",
       "      <td>Merchant payments</td>\n",
       "      <td>5368669</td>\n",
       "      <td>4656678915</td>\n",
       "    </tr>\n",
       "    <tr>\n",
       "      <th>3</th>\n",
       "      <td>2018</td>\n",
       "      <td>1</td>\n",
       "      <td>Financial Services</td>\n",
       "      <td>3762820</td>\n",
       "      <td>815853105</td>\n",
       "    </tr>\n",
       "    <tr>\n",
       "      <th>4</th>\n",
       "      <td>2018</td>\n",
       "      <td>1</td>\n",
       "      <td>Others</td>\n",
       "      <td>5761576</td>\n",
       "      <td>4643217301</td>\n",
       "    </tr>\n",
       "    <tr>\n",
       "      <th>...</th>\n",
       "      <td>...</td>\n",
       "      <td>...</td>\n",
       "      <td>...</td>\n",
       "      <td>...</td>\n",
       "      <td>...</td>\n",
       "    </tr>\n",
       "    <tr>\n",
       "      <th>95</th>\n",
       "      <td>2022</td>\n",
       "      <td>4</td>\n",
       "      <td>Merchant payments</td>\n",
       "      <td>6565690145</td>\n",
       "      <td>3673601044800</td>\n",
       "    </tr>\n",
       "    <tr>\n",
       "      <th>96</th>\n",
       "      <td>2022</td>\n",
       "      <td>4</td>\n",
       "      <td>Peer-to-peer payments</td>\n",
       "      <td>4459859921</td>\n",
       "      <td>14578874324207</td>\n",
       "    </tr>\n",
       "    <tr>\n",
       "      <th>97</th>\n",
       "      <td>2022</td>\n",
       "      <td>4</td>\n",
       "      <td>Recharge &amp; bill payments</td>\n",
       "      <td>991049281</td>\n",
       "      <td>649776847580</td>\n",
       "    </tr>\n",
       "    <tr>\n",
       "      <th>98</th>\n",
       "      <td>2022</td>\n",
       "      <td>4</td>\n",
       "      <td>Financial Services</td>\n",
       "      <td>4623387</td>\n",
       "      <td>5360528394</td>\n",
       "    </tr>\n",
       "    <tr>\n",
       "      <th>99</th>\n",
       "      <td>2022</td>\n",
       "      <td>4</td>\n",
       "      <td>Others</td>\n",
       "      <td>10013085</td>\n",
       "      <td>7361492606</td>\n",
       "    </tr>\n",
       "  </tbody>\n",
       "</table>\n",
       "<p>100 rows × 5 columns</p>\n",
       "</div>"
      ],
      "text/plain": [
       "    Year  Quater          Transaction_type  Transaction_count  \\\n",
       "0   2018       1  Recharge & bill payments           72550406   \n",
       "1   2018       1     Peer-to-peer payments           46982705   \n",
       "2   2018       1         Merchant payments            5368669   \n",
       "3   2018       1        Financial Services            3762820   \n",
       "4   2018       1                    Others            5761576   \n",
       "..   ...     ...                       ...                ...   \n",
       "95  2022       4         Merchant payments         6565690145   \n",
       "96  2022       4     Peer-to-peer payments         4459859921   \n",
       "97  2022       4  Recharge & bill payments          991049281   \n",
       "98  2022       4        Financial Services            4623387   \n",
       "99  2022       4                    Others           10013085   \n",
       "\n",
       "    Transaction_amount  \n",
       "0          14472713558  \n",
       "1         147245883542  \n",
       "2           4656678915  \n",
       "3            815853105  \n",
       "4           4643217301  \n",
       "..                 ...  \n",
       "95       3673601044800  \n",
       "96      14578874324207  \n",
       "97        649776847580  \n",
       "98          5360528394  \n",
       "99          7361492606  \n",
       "\n",
       "[100 rows x 5 columns]"
      ]
     },
     "execution_count": 10,
     "metadata": {},
     "output_type": "execute_result"
    }
   ],
   "source": [
    "ATI_df['Transaction_amount'] = ATI_df['Transaction_amount'].apply(lambda x: int(x))\n",
    "ATI_df"
   ]
  },
  {
   "cell_type": "code",
   "execution_count": 12,
   "id": "9543369c",
   "metadata": {},
   "outputs": [
    {
     "data": {
      "text/plain": [
       "100"
      ]
     },
     "execution_count": 12,
     "metadata": {},
     "output_type": "execute_result"
    }
   ],
   "source": [
    "ATI_df.to_sql('Agg_Trans_India', engine, if_exists='append', index=False)"
   ]
  },
  {
   "cell_type": "code",
   "execution_count": 13,
   "id": "01f425af",
   "metadata": {},
   "outputs": [
    {
     "data": {
      "text/html": [
       "<div>\n",
       "<style scoped>\n",
       "    .dataframe tbody tr th:only-of-type {\n",
       "        vertical-align: middle;\n",
       "    }\n",
       "\n",
       "    .dataframe tbody tr th {\n",
       "        vertical-align: top;\n",
       "    }\n",
       "\n",
       "    .dataframe thead th {\n",
       "        text-align: right;\n",
       "    }\n",
       "</style>\n",
       "<table border=\"1\" class=\"dataframe\">\n",
       "  <thead>\n",
       "    <tr style=\"text-align: right;\">\n",
       "      <th></th>\n",
       "      <th>Year</th>\n",
       "      <th>Quater</th>\n",
       "      <th>Transaction_type</th>\n",
       "      <th>Transaction_count</th>\n",
       "      <th>Transaction_amount</th>\n",
       "    </tr>\n",
       "  </thead>\n",
       "  <tbody>\n",
       "    <tr>\n",
       "      <th>0</th>\n",
       "      <td>2018</td>\n",
       "      <td>1</td>\n",
       "      <td>Recharge &amp; bill payments</td>\n",
       "      <td>72550406</td>\n",
       "      <td>1.447271e+10</td>\n",
       "    </tr>\n",
       "    <tr>\n",
       "      <th>1</th>\n",
       "      <td>2018</td>\n",
       "      <td>1</td>\n",
       "      <td>Peer-to-peer payments</td>\n",
       "      <td>46982705</td>\n",
       "      <td>1.472459e+11</td>\n",
       "    </tr>\n",
       "    <tr>\n",
       "      <th>2</th>\n",
       "      <td>2018</td>\n",
       "      <td>1</td>\n",
       "      <td>Merchant payments</td>\n",
       "      <td>5368669</td>\n",
       "      <td>4.656679e+09</td>\n",
       "    </tr>\n",
       "    <tr>\n",
       "      <th>3</th>\n",
       "      <td>2018</td>\n",
       "      <td>1</td>\n",
       "      <td>Financial Services</td>\n",
       "      <td>3762820</td>\n",
       "      <td>8.158531e+08</td>\n",
       "    </tr>\n",
       "    <tr>\n",
       "      <th>4</th>\n",
       "      <td>2018</td>\n",
       "      <td>1</td>\n",
       "      <td>Others</td>\n",
       "      <td>5761576</td>\n",
       "      <td>4.643217e+09</td>\n",
       "    </tr>\n",
       "    <tr>\n",
       "      <th>...</th>\n",
       "      <td>...</td>\n",
       "      <td>...</td>\n",
       "      <td>...</td>\n",
       "      <td>...</td>\n",
       "      <td>...</td>\n",
       "    </tr>\n",
       "    <tr>\n",
       "      <th>95</th>\n",
       "      <td>2022</td>\n",
       "      <td>4</td>\n",
       "      <td>Merchant payments</td>\n",
       "      <td>6565690145</td>\n",
       "      <td>3.673601e+12</td>\n",
       "    </tr>\n",
       "    <tr>\n",
       "      <th>96</th>\n",
       "      <td>2022</td>\n",
       "      <td>4</td>\n",
       "      <td>Peer-to-peer payments</td>\n",
       "      <td>4459859921</td>\n",
       "      <td>1.457887e+13</td>\n",
       "    </tr>\n",
       "    <tr>\n",
       "      <th>97</th>\n",
       "      <td>2022</td>\n",
       "      <td>4</td>\n",
       "      <td>Recharge &amp; bill payments</td>\n",
       "      <td>991049281</td>\n",
       "      <td>6.497768e+11</td>\n",
       "    </tr>\n",
       "    <tr>\n",
       "      <th>98</th>\n",
       "      <td>2022</td>\n",
       "      <td>4</td>\n",
       "      <td>Financial Services</td>\n",
       "      <td>4623387</td>\n",
       "      <td>5.360528e+09</td>\n",
       "    </tr>\n",
       "    <tr>\n",
       "      <th>99</th>\n",
       "      <td>2022</td>\n",
       "      <td>4</td>\n",
       "      <td>Others</td>\n",
       "      <td>10013085</td>\n",
       "      <td>7.361493e+09</td>\n",
       "    </tr>\n",
       "  </tbody>\n",
       "</table>\n",
       "<p>100 rows × 5 columns</p>\n",
       "</div>"
      ],
      "text/plain": [
       "    Year  Quater          Transaction_type  Transaction_count  \\\n",
       "0   2018       1  Recharge & bill payments           72550406   \n",
       "1   2018       1     Peer-to-peer payments           46982705   \n",
       "2   2018       1         Merchant payments            5368669   \n",
       "3   2018       1        Financial Services            3762820   \n",
       "4   2018       1                    Others            5761576   \n",
       "..   ...     ...                       ...                ...   \n",
       "95  2022       4         Merchant payments         6565690145   \n",
       "96  2022       4     Peer-to-peer payments         4459859921   \n",
       "97  2022       4  Recharge & bill payments          991049281   \n",
       "98  2022       4        Financial Services            4623387   \n",
       "99  2022       4                    Others           10013085   \n",
       "\n",
       "    Transaction_amount  \n",
       "0         1.447271e+10  \n",
       "1         1.472459e+11  \n",
       "2         4.656679e+09  \n",
       "3         8.158531e+08  \n",
       "4         4.643217e+09  \n",
       "..                 ...  \n",
       "95        3.673601e+12  \n",
       "96        1.457887e+13  \n",
       "97        6.497768e+11  \n",
       "98        5.360528e+09  \n",
       "99        7.361493e+09  \n",
       "\n",
       "[100 rows x 5 columns]"
      ]
     },
     "execution_count": 13,
     "metadata": {},
     "output_type": "execute_result"
    }
   ],
   "source": [
    "ATI_df = pd.read_sql('Agg_Trans_India', con=engine.connect())\n",
    "ATI_df"
   ]
  },
  {
   "cell_type": "code",
   "execution_count": 6,
   "id": "5525b789",
   "metadata": {},
   "outputs": [
    {
     "data": {
      "text/html": [
       "<div>\n",
       "<style scoped>\n",
       "    .dataframe tbody tr th:only-of-type {\n",
       "        vertical-align: middle;\n",
       "    }\n",
       "\n",
       "    .dataframe tbody tr th {\n",
       "        vertical-align: top;\n",
       "    }\n",
       "\n",
       "    .dataframe thead th {\n",
       "        text-align: right;\n",
       "    }\n",
       "</style>\n",
       "<table border=\"1\" class=\"dataframe\">\n",
       "  <thead>\n",
       "    <tr style=\"text-align: right;\">\n",
       "      <th></th>\n",
       "      <th>Year</th>\n",
       "      <th>Quater</th>\n",
       "      <th>User_Brand</th>\n",
       "      <th>No_of_Users</th>\n",
       "      <th>Percent</th>\n",
       "    </tr>\n",
       "  </thead>\n",
       "  <tbody>\n",
       "    <tr>\n",
       "      <th>0</th>\n",
       "      <td>2018</td>\n",
       "      <td>1</td>\n",
       "      <td>Xiaomi</td>\n",
       "      <td>11926334</td>\n",
       "      <td>0.254413</td>\n",
       "    </tr>\n",
       "    <tr>\n",
       "      <th>1</th>\n",
       "      <td>2018</td>\n",
       "      <td>1</td>\n",
       "      <td>Samsung</td>\n",
       "      <td>9609401</td>\n",
       "      <td>0.204988</td>\n",
       "    </tr>\n",
       "    <tr>\n",
       "      <th>2</th>\n",
       "      <td>2018</td>\n",
       "      <td>1</td>\n",
       "      <td>Vivo</td>\n",
       "      <td>5894293</td>\n",
       "      <td>0.125737</td>\n",
       "    </tr>\n",
       "    <tr>\n",
       "      <th>3</th>\n",
       "      <td>2018</td>\n",
       "      <td>1</td>\n",
       "      <td>Oppo</td>\n",
       "      <td>4479351</td>\n",
       "      <td>0.095554</td>\n",
       "    </tr>\n",
       "    <tr>\n",
       "      <th>4</th>\n",
       "      <td>2018</td>\n",
       "      <td>1</td>\n",
       "      <td>Realme</td>\n",
       "      <td>2376866</td>\n",
       "      <td>0.050703</td>\n",
       "    </tr>\n",
       "    <tr>\n",
       "      <th>...</th>\n",
       "      <td>...</td>\n",
       "      <td>...</td>\n",
       "      <td>...</td>\n",
       "      <td>...</td>\n",
       "      <td>...</td>\n",
       "    </tr>\n",
       "    <tr>\n",
       "      <th>182</th>\n",
       "      <td>2022</td>\n",
       "      <td>1</td>\n",
       "      <td>OnePlus</td>\n",
       "      <td>7974546</td>\n",
       "      <td>0.021382</td>\n",
       "    </tr>\n",
       "    <tr>\n",
       "      <th>183</th>\n",
       "      <td>2022</td>\n",
       "      <td>1</td>\n",
       "      <td>Motorola</td>\n",
       "      <td>5610140</td>\n",
       "      <td>0.015043</td>\n",
       "    </tr>\n",
       "    <tr>\n",
       "      <th>184</th>\n",
       "      <td>2022</td>\n",
       "      <td>1</td>\n",
       "      <td>Huawei</td>\n",
       "      <td>4882972</td>\n",
       "      <td>0.013093</td>\n",
       "    </tr>\n",
       "    <tr>\n",
       "      <th>185</th>\n",
       "      <td>2022</td>\n",
       "      <td>1</td>\n",
       "      <td>Tecno</td>\n",
       "      <td>4550078</td>\n",
       "      <td>0.012200</td>\n",
       "    </tr>\n",
       "    <tr>\n",
       "      <th>186</th>\n",
       "      <td>2022</td>\n",
       "      <td>1</td>\n",
       "      <td>Others</td>\n",
       "      <td>25835848</td>\n",
       "      <td>0.069274</td>\n",
       "    </tr>\n",
       "  </tbody>\n",
       "</table>\n",
       "<p>187 rows × 5 columns</p>\n",
       "</div>"
      ],
      "text/plain": [
       "     Year  Quater User_Brand  No_of_Users   Percent\n",
       "0    2018       1     Xiaomi     11926334  0.254413\n",
       "1    2018       1    Samsung      9609401  0.204988\n",
       "2    2018       1       Vivo      5894293  0.125737\n",
       "3    2018       1       Oppo      4479351  0.095554\n",
       "4    2018       1     Realme      2376866  0.050703\n",
       "..    ...     ...        ...          ...       ...\n",
       "182  2022       1    OnePlus      7974546  0.021382\n",
       "183  2022       1   Motorola      5610140  0.015043\n",
       "184  2022       1     Huawei      4882972  0.013093\n",
       "185  2022       1      Tecno      4550078  0.012200\n",
       "186  2022       1     Others     25835848  0.069274\n",
       "\n",
       "[187 rows x 5 columns]"
      ]
     },
     "execution_count": 6,
     "metadata": {},
     "output_type": "execute_result"
    }
   ],
   "source": [
    "AUI_df = pd.read_csv(r'D:\\Phone pluse project\\extracted_csv_files\\AGG\\Agg_user_India_df.csv')\n",
    "AUI_df.drop('Unnamed: 0',axis=1, inplace=True)\n",
    "AUI_df"
   ]
  },
  {
   "cell_type": "code",
   "execution_count": 7,
   "id": "30adef06",
   "metadata": {},
   "outputs": [
    {
     "name": "stdout",
     "output_type": "stream",
     "text": [
      "<class 'pandas.core.frame.DataFrame'>\n",
      "RangeIndex: 187 entries, 0 to 186\n",
      "Data columns (total 5 columns):\n",
      " #   Column       Non-Null Count  Dtype  \n",
      "---  ------       --------------  -----  \n",
      " 0   Year         187 non-null    int64  \n",
      " 1   Quater       187 non-null    int64  \n",
      " 2   User_Brand   187 non-null    object \n",
      " 3   No_of_Users  187 non-null    int64  \n",
      " 4   Percent      187 non-null    float64\n",
      "dtypes: float64(1), int64(3), object(1)\n",
      "memory usage: 7.4+ KB\n"
     ]
    }
   ],
   "source": [
    "AUI_df.info(0)"
   ]
  },
  {
   "cell_type": "code",
   "execution_count": 15,
   "id": "b266fca2",
   "metadata": {},
   "outputs": [
    {
     "data": {
      "text/plain": [
       "187"
      ]
     },
     "execution_count": 15,
     "metadata": {},
     "output_type": "execute_result"
    }
   ],
   "source": [
    "AUI_df.to_sql('Agg_User_India', engine, if_exists='append', index=False)"
   ]
  },
  {
   "cell_type": "code",
   "execution_count": 16,
   "id": "84f29f06",
   "metadata": {},
   "outputs": [
    {
     "data": {
      "text/html": [
       "<div>\n",
       "<style scoped>\n",
       "    .dataframe tbody tr th:only-of-type {\n",
       "        vertical-align: middle;\n",
       "    }\n",
       "\n",
       "    .dataframe tbody tr th {\n",
       "        vertical-align: top;\n",
       "    }\n",
       "\n",
       "    .dataframe thead th {\n",
       "        text-align: right;\n",
       "    }\n",
       "</style>\n",
       "<table border=\"1\" class=\"dataframe\">\n",
       "  <thead>\n",
       "    <tr style=\"text-align: right;\">\n",
       "      <th></th>\n",
       "      <th>Year</th>\n",
       "      <th>Quater</th>\n",
       "      <th>User_Brand</th>\n",
       "      <th>No_of_Users</th>\n",
       "      <th>Percent</th>\n",
       "    </tr>\n",
       "  </thead>\n",
       "  <tbody>\n",
       "    <tr>\n",
       "      <th>0</th>\n",
       "      <td>2018</td>\n",
       "      <td>1</td>\n",
       "      <td>Xiaomi</td>\n",
       "      <td>11926334</td>\n",
       "      <td>0.254413</td>\n",
       "    </tr>\n",
       "    <tr>\n",
       "      <th>1</th>\n",
       "      <td>2018</td>\n",
       "      <td>1</td>\n",
       "      <td>Samsung</td>\n",
       "      <td>9609401</td>\n",
       "      <td>0.204988</td>\n",
       "    </tr>\n",
       "    <tr>\n",
       "      <th>2</th>\n",
       "      <td>2018</td>\n",
       "      <td>1</td>\n",
       "      <td>Vivo</td>\n",
       "      <td>5894293</td>\n",
       "      <td>0.125737</td>\n",
       "    </tr>\n",
       "    <tr>\n",
       "      <th>3</th>\n",
       "      <td>2018</td>\n",
       "      <td>1</td>\n",
       "      <td>Oppo</td>\n",
       "      <td>4479351</td>\n",
       "      <td>0.095554</td>\n",
       "    </tr>\n",
       "    <tr>\n",
       "      <th>4</th>\n",
       "      <td>2018</td>\n",
       "      <td>1</td>\n",
       "      <td>Realme</td>\n",
       "      <td>2376866</td>\n",
       "      <td>0.050703</td>\n",
       "    </tr>\n",
       "    <tr>\n",
       "      <th>...</th>\n",
       "      <td>...</td>\n",
       "      <td>...</td>\n",
       "      <td>...</td>\n",
       "      <td>...</td>\n",
       "      <td>...</td>\n",
       "    </tr>\n",
       "    <tr>\n",
       "      <th>182</th>\n",
       "      <td>2022</td>\n",
       "      <td>1</td>\n",
       "      <td>OnePlus</td>\n",
       "      <td>7974546</td>\n",
       "      <td>0.021382</td>\n",
       "    </tr>\n",
       "    <tr>\n",
       "      <th>183</th>\n",
       "      <td>2022</td>\n",
       "      <td>1</td>\n",
       "      <td>Motorola</td>\n",
       "      <td>5610140</td>\n",
       "      <td>0.015043</td>\n",
       "    </tr>\n",
       "    <tr>\n",
       "      <th>184</th>\n",
       "      <td>2022</td>\n",
       "      <td>1</td>\n",
       "      <td>Huawei</td>\n",
       "      <td>4882972</td>\n",
       "      <td>0.013093</td>\n",
       "    </tr>\n",
       "    <tr>\n",
       "      <th>185</th>\n",
       "      <td>2022</td>\n",
       "      <td>1</td>\n",
       "      <td>Tecno</td>\n",
       "      <td>4550078</td>\n",
       "      <td>0.012200</td>\n",
       "    </tr>\n",
       "    <tr>\n",
       "      <th>186</th>\n",
       "      <td>2022</td>\n",
       "      <td>1</td>\n",
       "      <td>Others</td>\n",
       "      <td>25835848</td>\n",
       "      <td>0.069274</td>\n",
       "    </tr>\n",
       "  </tbody>\n",
       "</table>\n",
       "<p>187 rows × 5 columns</p>\n",
       "</div>"
      ],
      "text/plain": [
       "     Year  Quater User_Brand  No_of_Users   Percent\n",
       "0    2018       1     Xiaomi     11926334  0.254413\n",
       "1    2018       1    Samsung      9609401  0.204988\n",
       "2    2018       1       Vivo      5894293  0.125737\n",
       "3    2018       1       Oppo      4479351  0.095554\n",
       "4    2018       1     Realme      2376866  0.050703\n",
       "..    ...     ...        ...          ...       ...\n",
       "182  2022       1    OnePlus      7974546  0.021382\n",
       "183  2022       1   Motorola      5610140  0.015043\n",
       "184  2022       1     Huawei      4882972  0.013093\n",
       "185  2022       1      Tecno      4550078  0.012200\n",
       "186  2022       1     Others     25835848  0.069274\n",
       "\n",
       "[187 rows x 5 columns]"
      ]
     },
     "execution_count": 16,
     "metadata": {},
     "output_type": "execute_result"
    }
   ],
   "source": [
    "AUI_df = pd.read_sql('Agg_User_India', con=engine.connect())\n",
    "AUI_df"
   ]
  },
  {
   "cell_type": "code",
   "execution_count": 19,
   "id": "7fdf3d9d",
   "metadata": {},
   "outputs": [],
   "source": [
    "from sqlalchemy import text"
   ]
  },
  {
   "cell_type": "code",
   "execution_count": 20,
   "id": "0df66f5d",
   "metadata": {},
   "outputs": [
    {
     "data": {
      "text/html": [
       "<div>\n",
       "<style scoped>\n",
       "    .dataframe tbody tr th:only-of-type {\n",
       "        vertical-align: middle;\n",
       "    }\n",
       "\n",
       "    .dataframe tbody tr th {\n",
       "        vertical-align: top;\n",
       "    }\n",
       "\n",
       "    .dataframe thead th {\n",
       "        text-align: right;\n",
       "    }\n",
       "</style>\n",
       "<table border=\"1\" class=\"dataframe\">\n",
       "  <thead>\n",
       "    <tr style=\"text-align: right;\">\n",
       "      <th></th>\n",
       "      <th>Year</th>\n",
       "      <th>Quater</th>\n",
       "      <th>Transaction_amount</th>\n",
       "      <th>No_of_Users</th>\n",
       "    </tr>\n",
       "  </thead>\n",
       "  <tbody>\n",
       "    <tr>\n",
       "      <th>0</th>\n",
       "      <td>2018</td>\n",
       "      <td>1</td>\n",
       "      <td>1.447271e+10</td>\n",
       "      <td>808774</td>\n",
       "    </tr>\n",
       "    <tr>\n",
       "      <th>1</th>\n",
       "      <td>2018</td>\n",
       "      <td>1</td>\n",
       "      <td>1.447271e+10</td>\n",
       "      <td>1104740</td>\n",
       "    </tr>\n",
       "    <tr>\n",
       "      <th>2</th>\n",
       "      <td>2018</td>\n",
       "      <td>1</td>\n",
       "      <td>1.447271e+10</td>\n",
       "      <td>1246507</td>\n",
       "    </tr>\n",
       "    <tr>\n",
       "      <th>3</th>\n",
       "      <td>2018</td>\n",
       "      <td>1</td>\n",
       "      <td>1.447271e+10</td>\n",
       "      <td>1444125</td>\n",
       "    </tr>\n",
       "    <tr>\n",
       "      <th>4</th>\n",
       "      <td>2018</td>\n",
       "      <td>1</td>\n",
       "      <td>1.447271e+10</td>\n",
       "      <td>1536418</td>\n",
       "    </tr>\n",
       "    <tr>\n",
       "      <th>...</th>\n",
       "      <td>...</td>\n",
       "      <td>...</td>\n",
       "      <td>...</td>\n",
       "      <td>...</td>\n",
       "    </tr>\n",
       "    <tr>\n",
       "      <th>3735</th>\n",
       "      <td>2022</td>\n",
       "      <td>4</td>\n",
       "      <td>7.361493e+09</td>\n",
       "      <td>32685615</td>\n",
       "    </tr>\n",
       "    <tr>\n",
       "      <th>3736</th>\n",
       "      <td>2022</td>\n",
       "      <td>4</td>\n",
       "      <td>7.361493e+09</td>\n",
       "      <td>49093857</td>\n",
       "    </tr>\n",
       "    <tr>\n",
       "      <th>3737</th>\n",
       "      <td>2022</td>\n",
       "      <td>4</td>\n",
       "      <td>7.361493e+09</td>\n",
       "      <td>65886728</td>\n",
       "    </tr>\n",
       "    <tr>\n",
       "      <th>3738</th>\n",
       "      <td>2022</td>\n",
       "      <td>4</td>\n",
       "      <td>7.361493e+09</td>\n",
       "      <td>77224616</td>\n",
       "    </tr>\n",
       "    <tr>\n",
       "      <th>3739</th>\n",
       "      <td>2022</td>\n",
       "      <td>4</td>\n",
       "      <td>7.361493e+09</td>\n",
       "      <td>88426997</td>\n",
       "    </tr>\n",
       "  </tbody>\n",
       "</table>\n",
       "<p>3740 rows × 4 columns</p>\n",
       "</div>"
      ],
      "text/plain": [
       "      Year  Quater  Transaction_amount  No_of_Users\n",
       "0     2018       1        1.447271e+10       808774\n",
       "1     2018       1        1.447271e+10      1104740\n",
       "2     2018       1        1.447271e+10      1246507\n",
       "3     2018       1        1.447271e+10      1444125\n",
       "4     2018       1        1.447271e+10      1536418\n",
       "...    ...     ...                 ...          ...\n",
       "3735  2022       4        7.361493e+09     32685615\n",
       "3736  2022       4        7.361493e+09     49093857\n",
       "3737  2022       4        7.361493e+09     65886728\n",
       "3738  2022       4        7.361493e+09     77224616\n",
       "3739  2022       4        7.361493e+09     88426997\n",
       "\n",
       "[3740 rows x 4 columns]"
      ]
     },
     "execution_count": 20,
     "metadata": {},
     "output_type": "execute_result"
    }
   ],
   "source": [
    "query = text(\"\"\"SELECT Agg_Trans_India.Year, Agg_Trans_India.Quater, Transaction_amount, No_of_Users FROM Agg_Trans_India JOIN Agg_User_India ON Agg_Trans_India.Year = Agg_User_India.Year;\"\"\")\n",
    "\n",
    "df = pd.read_sql(query, con=engine.connect())\n",
    "df\n"
   ]
  },
  {
   "cell_type": "code",
   "execution_count": 11,
   "id": "fc272b0f",
   "metadata": {},
   "outputs": [
    {
     "name": "stdout",
     "output_type": "stream",
     "text": [
      "14,472,713,558\n"
     ]
    }
   ],
   "source": [
    "number_string = 14472713558\n",
    "number_commas_only = \"{:,}\".format(number_string)\n",
    "print(number_commas_only)"
   ]
  },
  {
   "cell_type": "code",
   "execution_count": 6,
   "id": "dcfddcc5",
   "metadata": {},
   "outputs": [
    {
     "name": "stdout",
     "output_type": "stream",
     "text": [
      "INR 14,47,27,13,558.00\n",
      "INR 1,000.108\n",
      "INR 12,00,000.00\n"
     ]
    }
   ],
   "source": [
    "import decimal\n",
    "def currencyInIndiaFormat(n):\n",
    "  d = decimal.Decimal(str(n))\n",
    "  if d.as_tuple().exponent < -2:\n",
    "    s = str(n)\n",
    "  else:\n",
    "    s = '{0:.2f}'.format(n)\n",
    "  l = len(s)\n",
    "  i = l-1;\n",
    "  res = ''\n",
    "  flag = 0\n",
    "  k = 0\n",
    "  while i>=0:\n",
    "    if flag==0:\n",
    "      res = res + s[i]\n",
    "      if s[i]=='.':\n",
    "        flag = 1\n",
    "    elif flag==1:\n",
    "      k = k + 1\n",
    "      res = res + s[i]\n",
    "      if k==3 and i-1>=0:\n",
    "        res = res + ','\n",
    "        flag = 2\n",
    "        k = 0\n",
    "    else:\n",
    "      k = k + 1\n",
    "      res = res + s[i]\n",
    "      if k==2 and i-1>=0:\n",
    "        res = res + ','\n",
    "        flag = 2\n",
    "        k = 0\n",
    "    i = i - 1\n",
    "\n",
    "  return res[::-1]\n",
    "\n",
    "\n",
    "n = 14472713558\n",
    "print( \"INR \" + currencyInIndiaFormat(n) ) # INR 100.52\n",
    "n = 1000.108\n",
    "print( \"INR \" + currencyInIndiaFormat(n))  # INR 1,000.108\n",
    "n = 1200000\n",
    "print (\"INR \" + currencyInIndiaFormat(n) ) # INR 12,00,000.00\n",
    "\n"
   ]
  },
  {
   "cell_type": "code",
   "execution_count": 15,
   "id": "f413545f",
   "metadata": {},
   "outputs": [
    {
     "name": "stdout",
     "output_type": "stream",
     "text": [
      "₹ 14,47,27,13,558\n"
     ]
    }
   ],
   "source": [
    "import locale\n",
    "locale.setlocale(locale.LC_MONETARY, 'en_IN')\n",
    "x = locale.currency(14472713558, grouping=True)\n",
    "x,a,b = x.partition('.')\n",
    "print(x)"
   ]
  },
  {
   "cell_type": "code",
   "execution_count": 11,
   "id": "7ee1d8af",
   "metadata": {},
   "outputs": [
    {
     "name": "stdout",
     "output_type": "stream",
     "text": [
      "1,47,24,58,83,542\n"
     ]
    }
   ],
   "source": [
    "def formatINR(number):\n",
    "    s, *d = str(number).partition(\".\") \n",
    "    r = \",\".join([s[x-2:x] for x in range(-3, -len(s), -2)][::-1] + [s[-3:]])\n",
    "    return \"\".join([r] + d)\n",
    "\n",
    "print(formatINR(147245883542))"
   ]
  },
  {
   "cell_type": "code",
   "execution_count": 17,
   "id": "d4ca078e",
   "metadata": {},
   "outputs": [],
   "source": [
    "def format_cash(amount):\n",
    "    def truncate_float(number, places):\n",
    "        return int(number * (10 ** places)) / 10 ** places\n",
    "\n",
    "    if amount < 1e3:\n",
    "        return amount\n",
    "\n",
    "    if 1e3 <= amount < 1e5:\n",
    "        return str(truncate_float((amount / 1e5) * 100, 2)) + \" K\"\n",
    "\n",
    "    if 1e5 <= amount < 1e7:\n",
    "        return str(truncate_float((amount / 1e7) * 100, 2)) + \" L\"\n",
    "\n",
    "    if amount > 1e7:\n",
    "        return str(truncate_float(amount / 1e7, 2)) + \" Cr\""
   ]
  },
  {
   "cell_type": "code",
   "execution_count": 23,
   "id": "8ceb5fd0",
   "metadata": {},
   "outputs": [
    {
     "data": {
      "text/plain": [
       "'14724.58 Cr'"
      ]
     },
     "execution_count": 23,
     "metadata": {},
     "output_type": "execute_result"
    }
   ],
   "source": [
    "x= format_cash(147245883542)\n",
    "x"
   ]
  },
  {
   "cell_type": "code",
   "execution_count": 27,
   "id": "7df80d6c",
   "metadata": {},
   "outputs": [],
   "source": [
    "def formatINR(number):\n",
    "    s, *d, c = str(number).partition(\".\") \n",
    "    r = \",\".join([s[x-2:x] for x in range(-3, -len(s), -2)][::-1] + [s[-3:]])\n",
    "    return \"\".join([r] + d)"
   ]
  },
  {
   "cell_type": "code",
   "execution_count": 28,
   "id": "7a97b760",
   "metadata": {},
   "outputs": [
    {
     "name": "stdout",
     "output_type": "stream",
     "text": [
      "14724 . 58 Cr\n",
      "14724\n",
      "14,724.58 Cr\n"
     ]
    }
   ],
   "source": [
    "n,d,v = x.partition('.')\n",
    "print(n,d,v)\n",
    "print(int(n))\n",
    "\n",
    "final = formatINR(int(n))\n",
    "print(final+d+v)"
   ]
  },
  {
   "cell_type": "code",
   "execution_count": 29,
   "id": "455f8c6c",
   "metadata": {},
   "outputs": [],
   "source": [
    "def final_format(amount):\n",
    "    x = format_cash(amount)\n",
    "    n,d,v = x.partition('.')\n",
    "    value = formatINR(int(n))\n",
    "    final = value + d + v\n",
    "    return final\n",
    "    "
   ]
  },
  {
   "cell_type": "code",
   "execution_count": 30,
   "id": "a8c1d460",
   "metadata": {},
   "outputs": [
    {
     "data": {
      "text/plain": [
       "'14,724.58 Cr'"
      ]
     },
     "execution_count": 30,
     "metadata": {},
     "output_type": "execute_result"
    }
   ],
   "source": [
    "final_format(147245883542)"
   ]
  },
  {
   "cell_type": "code",
   "execution_count": 11,
   "id": "5ae688f4",
   "metadata": {},
   "outputs": [
    {
     "name": "stdout",
     "output_type": "stream",
     "text": [
      "147245883542\n"
     ]
    }
   ],
   "source": [
    "# s = 147245883542\n",
    "s,d,c = str(147245883542).partition(\".\")\n",
    "print(s)\n"
   ]
  },
  {
   "cell_type": "code",
   "execution_count": 13,
   "id": "8322ea44",
   "metadata": {},
   "outputs": [
    {
     "name": "stdout",
     "output_type": "stream",
     "text": [
      "38\n",
      "85\n",
      "42\n",
      "74\n",
      "1\n",
      "388542741\n"
     ]
    }
   ],
   "source": [
    "r = ''\n",
    "for x in range(-3, -len(s), -2):\n",
    "    \n",
    "    print(s[x-2:x][::-1])\n",
    "    r = r + s[x-2:x][::-1]\n",
    "    \n",
    "print(r)\n",
    "#     print([s[-3:]])\n",
    "#     ','.join(s[x-2:x][::-1]+[s[-3:]])\n"
   ]
  },
  {
   "cell_type": "code",
   "execution_count": 2,
   "id": "608d9f1c",
   "metadata": {},
   "outputs": [],
   "source": [
    "import sqlalchemy as sqa\n",
    "from sqlalchemy import text\n",
    "import pandas as pd\n"
   ]
  },
  {
   "cell_type": "code",
   "execution_count": 4,
   "id": "d5e61341",
   "metadata": {},
   "outputs": [],
   "source": [
    "engine = sqa.create_engine(\"sqlite:///phonepluse.db\")"
   ]
  },
  {
   "cell_type": "code",
   "execution_count": null,
   "id": "349e6ca7",
   "metadata": {},
   "outputs": [],
   "source": []
  },
  {
   "cell_type": "code",
   "execution_count": 5,
   "id": "44519e32",
   "metadata": {},
   "outputs": [
    {
     "data": {
      "text/html": [
       "<div>\n",
       "<style scoped>\n",
       "    .dataframe tbody tr th:only-of-type {\n",
       "        vertical-align: middle;\n",
       "    }\n",
       "\n",
       "    .dataframe tbody tr th {\n",
       "        vertical-align: top;\n",
       "    }\n",
       "\n",
       "    .dataframe thead th {\n",
       "        text-align: right;\n",
       "    }\n",
       "</style>\n",
       "<table border=\"1\" class=\"dataframe\">\n",
       "  <thead>\n",
       "    <tr style=\"text-align: right;\">\n",
       "      <th></th>\n",
       "      <th>sum(Transaction_count)</th>\n",
       "    </tr>\n",
       "  </thead>\n",
       "  <tbody>\n",
       "    <tr>\n",
       "      <th>0</th>\n",
       "      <td>71723952547</td>\n",
       "    </tr>\n",
       "  </tbody>\n",
       "</table>\n",
       "</div>"
      ],
      "text/plain": [
       "   sum(Transaction_count)\n",
       "0             71723952547"
      ]
     },
     "execution_count": 5,
     "metadata": {},
     "output_type": "execute_result"
    }
   ],
   "source": [
    "query = text(\"\"\"SELECT sum(Transaction_count) FROM Agg_tns_India;\"\"\")\n",
    "all_trans = pd.read_sql(query, con=engine.connect())\n",
    "all_trans"
   ]
  },
  {
   "cell_type": "code",
   "execution_count": 12,
   "id": "b1fd3d58",
   "metadata": {},
   "outputs": [
    {
     "data": {
      "text/plain": [
       "71723952547"
      ]
     },
     "execution_count": 12,
     "metadata": {},
     "output_type": "execute_result"
    }
   ],
   "source": [
    "all_trans.iloc[0]['sum(Transaction_count)']"
   ]
  },
  {
   "cell_type": "markdown",
   "id": "3a2447e8",
   "metadata": {},
   "source": [
    "# example of a choropeth map\n"
   ]
  },
  {
   "cell_type": "code",
   "execution_count": null,
   "id": "b20ee93f",
   "metadata": {},
   "outputs": [],
   "source": [
    "# ! pip install geopandas "
   ]
  },
  {
   "cell_type": "code",
   "execution_count": 14,
   "id": "aca2a5a0",
   "metadata": {},
   "outputs": [],
   "source": [
    "import geopandas as gpd\n",
    "import pandas as pd\n",
    "import seaborn as sns\n",
    "import matplotlib.pyplot as plt"
   ]
  },
  {
   "cell_type": "code",
   "execution_count": 23,
   "id": "67311247",
   "metadata": {},
   "outputs": [
    {
     "data": {
      "text/html": [
       "<div>\n",
       "<style scoped>\n",
       "    .dataframe tbody tr th:only-of-type {\n",
       "        vertical-align: middle;\n",
       "    }\n",
       "\n",
       "    .dataframe tbody tr th {\n",
       "        vertical-align: top;\n",
       "    }\n",
       "\n",
       "    .dataframe thead th {\n",
       "        text-align: right;\n",
       "    }\n",
       "</style>\n",
       "<table border=\"1\" class=\"dataframe\">\n",
       "  <thead>\n",
       "    <tr style=\"text-align: right;\">\n",
       "      <th></th>\n",
       "      <th>OBJECTID</th>\n",
       "      <th>ID_0</th>\n",
       "      <th>ISO</th>\n",
       "      <th>NAME_0</th>\n",
       "      <th>ID_1</th>\n",
       "      <th>NAME_1</th>\n",
       "      <th>TYPE_1</th>\n",
       "      <th>ENGTYPE_1</th>\n",
       "      <th>NL_NAME_1</th>\n",
       "      <th>VARNAME_1</th>\n",
       "      <th>geometry</th>\n",
       "    </tr>\n",
       "  </thead>\n",
       "  <tbody>\n",
       "    <tr>\n",
       "      <th>0</th>\n",
       "      <td>1</td>\n",
       "      <td>105</td>\n",
       "      <td>IND</td>\n",
       "      <td>India</td>\n",
       "      <td>1</td>\n",
       "      <td>Andaman and Nicobar</td>\n",
       "      <td>Union Territor</td>\n",
       "      <td>Union Territory</td>\n",
       "      <td>NA</td>\n",
       "      <td>Andaman &amp; Nicobar Islands|Andaman et Nicobar|I...</td>\n",
       "      <td>None</td>\n",
       "    </tr>\n",
       "    <tr>\n",
       "      <th>1</th>\n",
       "      <td>2</td>\n",
       "      <td>105</td>\n",
       "      <td>IND</td>\n",
       "      <td>India</td>\n",
       "      <td>2</td>\n",
       "      <td>Andhra Pradesh</td>\n",
       "      <td>State</td>\n",
       "      <td>State</td>\n",
       "      <td>NA</td>\n",
       "      <td>NA</td>\n",
       "      <td>None</td>\n",
       "    </tr>\n",
       "    <tr>\n",
       "      <th>2</th>\n",
       "      <td>3</td>\n",
       "      <td>105</td>\n",
       "      <td>IND</td>\n",
       "      <td>India</td>\n",
       "      <td>3</td>\n",
       "      <td>Arunachal Pradesh</td>\n",
       "      <td>State</td>\n",
       "      <td>State</td>\n",
       "      <td>NA</td>\n",
       "      <td>Agence de la FrontiÃ¨re du Nord-Est(French-obs...</td>\n",
       "      <td>None</td>\n",
       "    </tr>\n",
       "    <tr>\n",
       "      <th>3</th>\n",
       "      <td>4</td>\n",
       "      <td>105</td>\n",
       "      <td>IND</td>\n",
       "      <td>India</td>\n",
       "      <td>4</td>\n",
       "      <td>Assam</td>\n",
       "      <td>State</td>\n",
       "      <td>State</td>\n",
       "      <td>NA</td>\n",
       "      <td>NA</td>\n",
       "      <td>None</td>\n",
       "    </tr>\n",
       "    <tr>\n",
       "      <th>4</th>\n",
       "      <td>5</td>\n",
       "      <td>105</td>\n",
       "      <td>IND</td>\n",
       "      <td>India</td>\n",
       "      <td>5</td>\n",
       "      <td>Bihar</td>\n",
       "      <td>State</td>\n",
       "      <td>State</td>\n",
       "      <td>NA</td>\n",
       "      <td>NA</td>\n",
       "      <td>None</td>\n",
       "    </tr>\n",
       "    <tr>\n",
       "      <th>5</th>\n",
       "      <td>6</td>\n",
       "      <td>105</td>\n",
       "      <td>IND</td>\n",
       "      <td>India</td>\n",
       "      <td>6</td>\n",
       "      <td>Chandigarh</td>\n",
       "      <td>Union Territor</td>\n",
       "      <td>Union Territory</td>\n",
       "      <td>NA</td>\n",
       "      <td>NA</td>\n",
       "      <td>None</td>\n",
       "    </tr>\n",
       "    <tr>\n",
       "      <th>6</th>\n",
       "      <td>7</td>\n",
       "      <td>105</td>\n",
       "      <td>IND</td>\n",
       "      <td>India</td>\n",
       "      <td>7</td>\n",
       "      <td>Chhattisgarh</td>\n",
       "      <td>State</td>\n",
       "      <td>State</td>\n",
       "      <td>NA</td>\n",
       "      <td>NA</td>\n",
       "      <td>None</td>\n",
       "    </tr>\n",
       "    <tr>\n",
       "      <th>7</th>\n",
       "      <td>8</td>\n",
       "      <td>105</td>\n",
       "      <td>IND</td>\n",
       "      <td>India</td>\n",
       "      <td>8</td>\n",
       "      <td>Dadra and Nagar Haveli</td>\n",
       "      <td>Union Territor</td>\n",
       "      <td>Union Territory</td>\n",
       "      <td>NA</td>\n",
       "      <td>DAdra et Nagar Haveli|Dadra e Nagar Haveli</td>\n",
       "      <td>None</td>\n",
       "    </tr>\n",
       "    <tr>\n",
       "      <th>8</th>\n",
       "      <td>9</td>\n",
       "      <td>105</td>\n",
       "      <td>IND</td>\n",
       "      <td>India</td>\n",
       "      <td>9</td>\n",
       "      <td>Daman and Diu</td>\n",
       "      <td>Union Territor</td>\n",
       "      <td>Union Territory</td>\n",
       "      <td>NA</td>\n",
       "      <td>NA</td>\n",
       "      <td>None</td>\n",
       "    </tr>\n",
       "    <tr>\n",
       "      <th>9</th>\n",
       "      <td>10</td>\n",
       "      <td>105</td>\n",
       "      <td>IND</td>\n",
       "      <td>India</td>\n",
       "      <td>10</td>\n",
       "      <td>Delhi</td>\n",
       "      <td>Union Territor</td>\n",
       "      <td>Union Territory</td>\n",
       "      <td>NA</td>\n",
       "      <td>NA</td>\n",
       "      <td>None</td>\n",
       "    </tr>\n",
       "  </tbody>\n",
       "</table>\n",
       "</div>"
      ],
      "text/plain": [
       "  OBJECTID ID_0  ISO NAME_0 ID_1                  NAME_1          TYPE_1  \\\n",
       "0        1  105  IND  India    1     Andaman and Nicobar  Union Territor   \n",
       "1        2  105  IND  India    2          Andhra Pradesh           State   \n",
       "2        3  105  IND  India    3       Arunachal Pradesh           State   \n",
       "3        4  105  IND  India    4                   Assam           State   \n",
       "4        5  105  IND  India    5                   Bihar           State   \n",
       "5        6  105  IND  India    6              Chandigarh  Union Territor   \n",
       "6        7  105  IND  India    7            Chhattisgarh           State   \n",
       "7        8  105  IND  India    8  Dadra and Nagar Haveli  Union Territor   \n",
       "8        9  105  IND  India    9           Daman and Diu  Union Territor   \n",
       "9       10  105  IND  India   10                   Delhi  Union Territor   \n",
       "\n",
       "         ENGTYPE_1 NL_NAME_1  \\\n",
       "0  Union Territory        NA   \n",
       "1            State        NA   \n",
       "2            State        NA   \n",
       "3            State        NA   \n",
       "4            State        NA   \n",
       "5  Union Territory        NA   \n",
       "6            State        NA   \n",
       "7  Union Territory        NA   \n",
       "8  Union Territory        NA   \n",
       "9  Union Territory        NA   \n",
       "\n",
       "                                           VARNAME_1 geometry  \n",
       "0  Andaman & Nicobar Islands|Andaman et Nicobar|I...     None  \n",
       "1                                                 NA     None  \n",
       "2  Agence de la FrontiÃ¨re du Nord-Est(French-obs...     None  \n",
       "3                                                 NA     None  \n",
       "4                                                 NA     None  \n",
       "5                                                 NA     None  \n",
       "6                                                 NA     None  \n",
       "7         DAdra et Nagar Haveli|Dadra e Nagar Haveli     None  \n",
       "8                                                 NA     None  \n",
       "9                                                 NA     None  "
      ]
     },
     "execution_count": 23,
     "metadata": {},
     "output_type": "execute_result"
    }
   ],
   "source": [
    "gdf = gpd.read_file(r\"D:\\Phone pluse project\\IND_adm\\IND_adm1.csv\")\n",
    "gdf.head(10)"
   ]
  },
  {
   "cell_type": "code",
   "execution_count": null,
   "id": "7cff6e2e",
   "metadata": {},
   "outputs": [],
   "source": []
  },
  {
   "cell_type": "code",
   "execution_count": null,
   "id": "38e6e3e0",
   "metadata": {},
   "outputs": [],
   "source": []
  },
  {
   "cell_type": "code",
   "execution_count": null,
   "id": "1a72c2f5",
   "metadata": {},
   "outputs": [],
   "source": []
  }
 ],
 "metadata": {
  "kernelspec": {
   "display_name": "Python 3 (ipykernel)",
   "language": "python",
   "name": "python3"
  },
  "language_info": {
   "codemirror_mode": {
    "name": "ipython",
    "version": 3
   },
   "file_extension": ".py",
   "mimetype": "text/x-python",
   "name": "python",
   "nbconvert_exporter": "python",
   "pygments_lexer": "ipython3",
   "version": "3.11.2"
  }
 },
 "nbformat": 4,
 "nbformat_minor": 5
}
